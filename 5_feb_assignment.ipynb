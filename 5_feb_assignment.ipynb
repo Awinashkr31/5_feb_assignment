{
 "cells": [
  {
   "cell_type": "code",
   "execution_count": 2,
   "id": "01f80a9b-2644-4204-8de6-df2f3da6b239",
   "metadata": {},
   "outputs": [],
   "source": [
    "# Q1. Explain Class and Object with respect to Object-Oriented Programming. Give a suitable example."
   ]
  },
  {
   "cell_type": "code",
   "execution_count": 3,
   "id": "da54f0b6-177e-4a84-9462-847eba363c9f",
   "metadata": {},
   "outputs": [],
   "source": [
    "\"\"\" In Object-Oriented Programming (OOP), a class is a blueprint for creating objects (a particular data structure),\n",
    "    providing initial values for state (member variables or attributes), and implementations of behavior\n",
    "    (member functions or methods). An object is an instance of a class. It's a basic unit of OOP and represents a real-world\n",
    "    entity having state and behavior. \"\"\"\n",
    "\n",
    "class Person:\n",
    "  def __init__(self, name, age, address):\n",
    "    self.name = name\n",
    "    self.age = age\n",
    "    self.address = address\n",
    "\n",
    "  def speak(self, words):\n",
    "    print(f\"{self.name} says {words}\")\n",
    "\n",
    "  def walk(self):\n",
    "    print(f\"{self.name} is walking\")\n"
   ]
  },
  {
   "cell_type": "code",
   "execution_count": 7,
   "id": "97636930-dc03-4441-b988-f509580a30d8",
   "metadata": {},
   "outputs": [],
   "source": [
    "person1 = Person(\"Awinash\", 30, \"Bhagalpur\")\n",
    "person2 = Person(\"Amar\", 25, \"Bhagalpur\")\n"
   ]
  },
  {
   "cell_type": "code",
   "execution_count": 8,
   "id": "70716811-b7b3-44eb-99f9-64e04aa5b4b2",
   "metadata": {},
   "outputs": [
    {
     "name": "stdout",
     "output_type": "stream",
     "text": [
      "Awinash\n",
      "Awinash says Hello, how are you?\n",
      "Awinash is walking\n"
     ]
    }
   ],
   "source": [
    "print(person1.name)\n",
    "person1.speak(\"Hello, how are you?\")\n",
    "person1.walk()\n"
   ]
  },
  {
   "cell_type": "code",
   "execution_count": null,
   "id": "2130943e-e208-416d-bc9e-805fa850d371",
   "metadata": {},
   "outputs": [],
   "source": []
  },
  {
   "cell_type": "code",
   "execution_count": 9,
   "id": "c591842c-d79d-464e-b785-aad354c0b488",
   "metadata": {},
   "outputs": [],
   "source": [
    "# Q2. Name the four pillars of OOPs."
   ]
  },
  {
   "cell_type": "code",
   "execution_count": 10,
   "id": "38aece3f-f9be-4b83-8650-59ca219dedc3",
   "metadata": {},
   "outputs": [
    {
     "data": {
      "text/plain": [
       "' The four pillars of Object-Oriented Programming (OOP) are:\\n\\n1. Abstraction: It refers to the act of representing essential features without including the background details\\n   or explanations. In OOP, abstraction is achieved through classes and objects, which allow the user to only see the relevant\\n    data and hide the implementation details.\\n\\n2. Encapsulation: It is the mechanism of hiding the implementation details from the user. In OOP, encapsulation is achieved\\n   by binding the data (attributes) and functions (methods) together within a class. The user can access the data only through \\n    the methods, which provide a controlled interface to the data.\\n\\n3. Inheritance: It is a mechanism that allows a new class to inherit the properties and behaviors of an existing class. \\n   The new class is called the subclass (or derived class), and the existing class is called the superclass (or base class). \\n   Inheritance provides a way to reuse the code and avoid duplication of effort.\\n\\n4. Polymorphism: It is the ability of an object to take on many forms. In OOP, polymorphism allows objects of different\\n   classes to be used interchangeably, even though each class may have its own unique implementation of a particular method.\\n   This is achieved through method overloading and method overriding. '"
      ]
     },
     "execution_count": 10,
     "metadata": {},
     "output_type": "execute_result"
    }
   ],
   "source": [
    "\"\"\" The four pillars of Object-Oriented Programming (OOP) are:\n",
    "\n",
    "1. Abstraction: It refers to the act of representing essential features without including the background details\n",
    "   or explanations. In OOP, abstraction is achieved through classes and objects, which allow the user to only see the relevant\n",
    "    data and hide the implementation details.\n",
    "\n",
    "2. Encapsulation: It is the mechanism of hiding the implementation details from the user. In OOP, encapsulation is achieved\n",
    "   by binding the data (attributes) and functions (methods) together within a class. The user can access the data only through \n",
    "    the methods, which provide a controlled interface to the data.\n",
    "\n",
    "3. Inheritance: It is a mechanism that allows a new class to inherit the properties and behaviors of an existing class. \n",
    "   The new class is called the subclass (or derived class), and the existing class is called the superclass (or base class). \n",
    "   Inheritance provides a way to reuse the code and avoid duplication of effort.\n",
    "\n",
    "4. Polymorphism: It is the ability of an object to take on many forms. In OOP, polymorphism allows objects of different\n",
    "   classes to be used interchangeably, even though each class may have its own unique implementation of a particular method.\n",
    "   This is achieved through method overloading and method overriding. \"\"\""
   ]
  },
  {
   "cell_type": "code",
   "execution_count": null,
   "id": "6af3de84-28ce-4f8d-9f8c-a057207d7dbe",
   "metadata": {},
   "outputs": [],
   "source": []
  },
  {
   "cell_type": "code",
   "execution_count": null,
   "id": "4000fd10-2c6d-4e0c-83b6-544d06dc2c02",
   "metadata": {},
   "outputs": [],
   "source": [
    "# Q3. Explain why the __init__() function is used. Give a suitable example."
   ]
  },
  {
   "cell_type": "code",
   "execution_count": 14,
   "id": "4f0ffa24-e5f3-4f16-b491-49fbec3ca1a0",
   "metadata": {},
   "outputs": [],
   "source": [
    "\"\"\" The __init__ function, also known as a constructor, is a special method in Python classes that is automatically called \n",
    "    when an object of the class is created. It is used to initialize the attributes of the class and set their default values.\n",
    "    The __init__ method is defined using the def keyword, just like a regular function, but it has a special name that starts \n",
    "    and ends with two underscores (__). \"\"\"\n",
    "class Person:\n",
    "  def __init__(self, name, age, address):\n",
    "    self.name = name\n",
    "    self.age = age\n",
    "    self.address = address\n"
   ]
  },
  {
   "cell_type": "code",
   "execution_count": 15,
   "id": "f01423f5-b03a-47de-91ec-5c811ccd7534",
   "metadata": {},
   "outputs": [],
   "source": [
    "person1 = Person(\"Awinash\", 30, \"Bhagalpur\")\n",
    "person2 = Person(\"Ravi\", 25, \"Bhagalpur\")\n"
   ]
  },
  {
   "cell_type": "code",
   "execution_count": null,
   "id": "8e32bb63-1dc7-42fe-a19c-df998f5c6435",
   "metadata": {},
   "outputs": [],
   "source": []
  },
  {
   "cell_type": "code",
   "execution_count": 16,
   "id": "7cf02719-f3f4-4193-a843-0873791623a8",
   "metadata": {},
   "outputs": [],
   "source": [
    "# Q4. Why self is used in OOPs?"
   ]
  },
  {
   "cell_type": "code",
   "execution_count": 17,
   "id": "477f920e-68eb-4b81-a8b8-1ab71537a350",
   "metadata": {},
   "outputs": [],
   "source": [
    "\"\"\" In Object-Oriented Programming (OOP), self is a reference to the instance of the object that is calling the method. \n",
    "    It is a convention used in Python (and other programming languages) to refer to the instance of the object within the \n",
    "    class methods.\n",
    "\n",
    "    When you define a method within a class, the first argument to the method is automatically set to self by convention. \n",
    "    This is a reference to the instance of the object that is calling the method. This allows you to access the attributes and\n",
    "    other methods of the object within the method. \"\"\"\n",
    "\n",
    "class Person:\n",
    "  def __init__(self, name, age, address):\n",
    "    self.name = name\n",
    "    self.age = age\n",
    "    self.address = address\n",
    "\n",
    "  def speak(self, words):\n",
    "    print(f\"{self.name} says {words}\")"
   ]
  },
  {
   "cell_type": "code",
   "execution_count": 18,
   "id": "8832d8d8-86dc-45d5-97cb-21d02869fc92",
   "metadata": {},
   "outputs": [
    {
     "name": "stdout",
     "output_type": "stream",
     "text": [
      "Awinash says Hello, how are you?\n"
     ]
    }
   ],
   "source": [
    "person1 = Person(\"Awinash\", 30, \"Bhagalpur\")\n",
    "person1.speak(\"Hello, how are you?\")"
   ]
  },
  {
   "cell_type": "code",
   "execution_count": null,
   "id": "318d2c0a-4ea7-4c6b-891a-eda3b8a4ef6d",
   "metadata": {},
   "outputs": [],
   "source": []
  },
  {
   "cell_type": "code",
   "execution_count": 19,
   "id": "4414c693-7d29-4199-84b7-cd75a42cc883",
   "metadata": {},
   "outputs": [],
   "source": [
    "# Q5. What is inheritance? Give an example for each type of inheritance."
   ]
  },
  {
   "cell_type": "code",
   "execution_count": 22,
   "id": "ca22e58e-dedc-464f-8629-704c1d234f5c",
   "metadata": {},
   "outputs": [],
   "source": [
    "\"\"\" Inheritance is a mechanism in Object-Oriented Programming (OOP) that allows you to create a new class based on an existing \n",
    "    class. The new class is called a subclass or derived class, and the existing class is called a superclass or base class. \n",
    "    The subclass inherits all the attributes and behaviors of the superclass, and can also add its own unique attributes \n",
    "    and behaviors.\n",
    "\n",
    "    There are several types of inheritance in OOP:\n",
    "\n",
    "1.  Single Inheritance: In single inheritance, a subclass is derived from a single superclass. The subclass inherits all\n",
    "    the attributes and behaviors of the superclass and can add its own unique attributes and behaviors. \"\"\"\n",
    "\n",
    "class Animal:\n",
    "  def __init__(self, name, species):\n",
    "    self.name = name\n",
    "    self.species = species\n",
    "\n",
    "  def make_sound(self):\n",
    "    print(\"Some generic animal sound\")\n",
    "\n",
    "class Dog(Animal):\n",
    "  def __init__(self, name, breed):\n",
    "    Animal.__init__(self, name, species=\"Dog\")\n",
    "    self.breed = breed\n",
    "\n",
    "  def make_sound(self):\n",
    "    print(\"Woof woof\")\n",
    "\n",
    "    \n",
    "\"\"\"\n",
    "2.  Multiple Inheritance: In multiple inheritance, a subclass is derived from multiple superclasses. The subclass \n",
    "    inherits the attributes and behaviors of all the superclasses and can add its own unique attributes and behaviors. \"\"\"\n",
    "\n",
    "class Engine:\n",
    "  def start(self):\n",
    "    print(\"Engine started\")\n",
    "\n",
    "class Car:\n",
    "  def __init__(self, make, model):\n",
    "    self.make = make\n",
    "    self.model = model\n",
    "\n",
    "class ElectricCar(Car, Engine):\n",
    "  def __init__(self, make, model, battery_size):\n",
    "    Car.__init__(self, make, model)\n",
    "    self.battery_size = battery_size\n",
    "\n",
    "\n",
    "\"\"\"\n",
    "3. Hierarchical Inheritance: In hierarchical inheritance, multiple subclasses are derived from a single superclass. \n",
    "   Each subclass inherits the attributes and behaviors of the superclass and can add its own unique attributes and behaviors. \"\"\"\n",
    "\n",
    "class Shape:\n",
    "  def __init__(self, sides):\n",
    "    self.sides = sides\n",
    "\n",
    "class Triangle(Shape):\n",
    "  def __init__(self, sides, height):\n",
    "    Shape.__init__(self, sides)\n",
    "    self.height = height\n",
    "\n",
    "class Rectangle(Shape):\n",
    "  def __init__(self, sides, width, height):\n",
    "    Shape.__init__(self, sides)\n",
    "    self.width = width\n",
    "    self.height = height"
   ]
  },
  {
   "cell_type": "code",
   "execution_count": null,
   "id": "eeb25d0e-0110-42cc-8d99-d4ca5e99b318",
   "metadata": {},
   "outputs": [],
   "source": []
  }
 ],
 "metadata": {
  "kernelspec": {
   "display_name": "Python 3 (ipykernel)",
   "language": "python",
   "name": "python3"
  },
  "language_info": {
   "codemirror_mode": {
    "name": "ipython",
    "version": 3
   },
   "file_extension": ".py",
   "mimetype": "text/x-python",
   "name": "python",
   "nbconvert_exporter": "python",
   "pygments_lexer": "ipython3",
   "version": "3.10.8"
  }
 },
 "nbformat": 4,
 "nbformat_minor": 5
}
